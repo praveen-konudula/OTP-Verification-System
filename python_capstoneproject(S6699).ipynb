{
  "cells": [
    {
      "cell_type": "code",
      "source": [
        "import random\n",
        "\n",
        "# Function to generate a 6-digit OTP randomly\n",
        "def generate_otp():\n",
        "    return str(random.randint(100000, 999999))\n",
        "    return ''.join([str(random.randint(0, 9)) for _ in range(6)])\n",
        "\n",
        "# Function to simulate sending the OTP to the user's email address\n",
        "def send_otp_to_email(email, otp):\n",
        "    # Simulated sending of OTP\n",
        "    print(f\"OTP {otp} has been sent to {email}\")\n",
        "\n",
        "# Function to prompt the user to enter the OTP received in their email\n",
        "def prompt_user_for_otp():\n",
        "    return input(\"Please enter the OTP you received in your email: \")\n",
        "\n",
        "# Function to verify if the entered OTP matches the generated OTP\n",
        "def verify_otp(user_otp, actual_otp):\n",
        "    return user_otp == actual_otp\n",
        "\n",
        "# Main function to run the OTP verification system\n",
        "def main():\n",
        "    otp = generate_otp()\n",
        "    email = \"praveen439@gmail.com\"\n",
        "    send_otp_to_email(email, otp)\n",
        "    for attempt in range(3):\n",
        "        user_otp = prompt_user_for_otp()\n",
        "        if verify_otp(user_otp, otp):\n",
        "            print(\"Access granted! The OTP is correct.\")\n",
        "            return True\n",
        "        else:\n",
        "            print(\"Incorrect OTP. Please try again.\")\n",
        "    print(\"Access denied. You have entered incorrect OTP 3 times.\")\n",
        "    return False\n",
        "\n",
        "if __name__ == \"__main__\":\n",
        "    main()\n",
        "\n"
      ],
      "metadata": {
        "colab": {
          "base_uri": "https://localhost:8080/"
        },
        "id": "z7Ah-H9GWsZ9",
        "outputId": "d07ded4f-db08-4a43-b1f6-10f289b903b4"
      },
      "execution_count": 9,
      "outputs": [
        {
          "output_type": "stream",
          "name": "stdout",
          "text": [
            "OTP 193674 has been sent to praveen439@gmail.com\n",
            "Please enter the OTP you received in your email: 193674\n",
            "Access granted! The OTP is correct.\n"
          ]
        }
      ]
    }
  ],
  "metadata": {
    "colab": {
      "provenance": []
    },
    "kernelspec": {
      "display_name": "Python 3",
      "name": "python3"
    },
    "language_info": {
      "name": "python"
    }
  },
  "nbformat": 4,
  "nbformat_minor": 0
}